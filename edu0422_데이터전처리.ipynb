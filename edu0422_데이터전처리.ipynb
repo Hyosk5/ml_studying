{
 "cells": [
  {
   "cell_type": "code",
   "execution_count": null,
   "metadata": {},
   "outputs": [],
   "source": [
    "#### 피마 인디언 당뇨병 분류"
   ]
  }
 ],
 "metadata": {
  "interpreter": {
   "hash": "99bfcb3a7945cc49acf702bacc063d5d92f6392713352401c5e8b5c2ea0f127a"
  },
  "kernelspec": {
   "display_name": "Python 3.8.8 ('venv': venv)",
   "language": "python",
   "name": "python3"
  },
  "language_info": {
   "name": "python",
   "version": "3.8.8"
  },
  "orig_nbformat": 4
 },
 "nbformat": 4,
 "nbformat_minor": 2
}
