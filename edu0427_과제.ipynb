{
 "cells": [
  {
   "cell_type": "markdown",
   "metadata": {},
   "source": [
    "##### 과제\n",
    "\n",
    "###### 1. 당뇨병 데이터- 다중회귀(LR, SVR, RFR, XGR)"
   ]
  },
  {
   "cell_type": "code",
   "execution_count": 1,
   "metadata": {},
   "outputs": [],
   "source": [
    "from sklearn.datasets import load_diabetes\n",
    "from sklearn.preprocessing import StandardScaler\n",
    "from sklearn.model_selection import train_test_split"
   ]
  },
  {
   "cell_type": "code",
   "execution_count": 2,
   "metadata": {},
   "outputs": [],
   "source": [
    "dia_std = StandardScaler().fit_transform(load_diabetes().data)\n",
    "\n",
    "X_train, X_test, y_train, y_test = train_test_split(dia_std, load_diabetes().target, random_state=2022) "
   ]
  },
  {
   "cell_type": "code",
   "execution_count": 3,
   "metadata": {},
   "outputs": [],
   "source": [
    "from sklearn.linear_model import LinearRegression\n",
    "lr = LinearRegression()\n",
    "lr.fit(X_train, y_train)\n",
    "pred_lr = lr.predict(X_test)"
   ]
  },
  {
   "cell_type": "code",
   "execution_count": 4,
   "metadata": {},
   "outputs": [],
   "source": [
    "from sklearn.svm import SVR\n",
    "svr = SVR()\n",
    "svr.fit(X_train, y_train)\n",
    "pred_svr = svr.predict(X_test)"
   ]
  },
  {
   "cell_type": "code",
   "execution_count": 5,
   "metadata": {},
   "outputs": [],
   "source": [
    "from sklearn.ensemble import RandomForestRegressor\n",
    "rfr = RandomForestRegressor(random_state=2022)\n",
    "rfr.fit(X_train,y_train)\n",
    "pred_rfr = rfr.predict(X_test)"
   ]
  },
  {
   "cell_type": "code",
   "execution_count": 6,
   "metadata": {},
   "outputs": [],
   "source": [
    "from xgboost import XGBRegressor\n",
    "xgr = XGBRegressor(random_state=2022)\n",
    "xgr.fit(X_train,y_train)\n",
    "pred_xgr = xgr.predict(X_test)"
   ]
  },
  {
   "cell_type": "code",
   "execution_count": 7,
   "metadata": {},
   "outputs": [
    {
     "name": "stdout",
     "output_type": "stream",
     "text": [
      "R2_Score\n",
      "LR: 0.5206\n",
      "SVR: 0.1657\n",
      "RFR: 0.4381\n",
      "XGR: 0.2595\n",
      "\n",
      "MSE\n",
      "LR: 2911.7982\n",
      "SVR: 5067.6368\n",
      "RFR: 3412.9469\n",
      "XGR: 4497.3946\n"
     ]
    }
   ],
   "source": [
    "from sklearn.metrics import r2_score, mean_squared_error\n",
    "print(f'R2_Score\\nLR: {r2_score(y_test, pred_lr):.4f}\\nSVR: {r2_score(y_test, pred_svr):.4f}\\nRFR: {r2_score(y_test, pred_rfr):.4f}\\nXGR: {r2_score(y_test, pred_xgr):.4f}\\n')\n",
    "print(f'MSE\\nLR: {mean_squared_error(y_test, pred_lr):.4f}\\nSVR: {mean_squared_error(y_test, pred_svr):.4f}\\nRFR: {mean_squared_error(y_test, pred_rfr):.4f}\\nXGR: {mean_squared_error(y_test, pred_xgr):.4f}')"
   ]
  }
 ],
 "metadata": {
  "interpreter": {
   "hash": "99bfcb3a7945cc49acf702bacc063d5d92f6392713352401c5e8b5c2ea0f127a"
  },
  "kernelspec": {
   "display_name": "Python 3.8.8 ('venv': venv)",
   "language": "python",
   "name": "python3"
  },
  "language_info": {
   "codemirror_mode": {
    "name": "ipython",
    "version": 3
   },
   "file_extension": ".py",
   "mimetype": "text/x-python",
   "name": "python",
   "nbconvert_exporter": "python",
   "pygments_lexer": "ipython3",
   "version": "3.8.8"
  },
  "orig_nbformat": 4
 },
 "nbformat": 4,
 "nbformat_minor": 2
}
